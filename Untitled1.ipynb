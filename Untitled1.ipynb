{
 "cells": [
  {
   "cell_type": "code",
   "execution_count": null,
   "id": "72cf57bd-3eb0-44bb-b607-6b8627ca83b4",
   "metadata": {},
   "outputs": [],
   "source": [
    "import numpy as np\n",
    "import pandas as pd\n",
    "\n",
    "from time import time\n",
    "from sklearn.ensemble import RandomForestClassifier\n",
    "from sklearn.naive_bayes import MultinomialNB\n",
    "from sklearn.model_selection import train_test_split\n",
    "from sklearn.feature_extraction.text import CountVectorizer\n",
    "from sklearn import svm\n",
    "from sklearn.metrics import accuracy_score\n",
    "from sklearn.feature_extraction.text import TfidfVectorizer\n",
    "from sklearn.linear_model import LogisticRegression\n",
    "\n",
    "# This DATASET is being used for TRAINING & TESTING \n",
    "raw_mail_data = pd.read_csv('mail_data.csv')\n",
    "mail_data = raw_mail_data[['Category', 'Message']]\n",
    "mail_data = raw_mail_data.where(pd.notnull(raw_mail_data), '')\n",
    "\n",
    "# set spam = 0 & ham = 1\n",
    "mail_data.loc[mail_data['Category'] == 'spam', 'Category'] = 0\n",
    "mail_data.loc[mail_data['Category'] == 'ham', 'Category'] = 1\n",
    "mail_data['Category'] = mail_data['Category'].astype(int)\n",
    "\n",
    "X = mail_data['Message']\n",
    "Y = mail_data['Category']\n",
    "\n",
    "# test_size = 0.2 sets the TESTING SET to 20 PERCENT of z and y\n",
    "X_train, X_test, Y_train, Y_test = train_test_split(X, Y, test_size=0.8)"
   ]
  },
  {
   "cell_type": "code",
   "execution_count": null,
   "id": "514d4d73-8c6f-4480-ad27-c6d319f24a31",
   "metadata": {},
   "outputs": [],
   "source": [
    "# -------- THIS CODE USE SVM ALGORITHM ---------\n",
    "cv = CountVectorizer()\n",
    "X_train_features = cv.fit_transform(X_train)\n",
    "X_test_features = cv.transform(X_test)\n",
    "\n",
    "model_svm = svm.SVC()\n",
    "start=time()\n",
    "model_svm.fit(X_train_features, Y_train)\n",
    "end=time()\n",
    "train_time_svm=end-start\n",
    "# Evaluate the model on the training data\n",
    "prediction_train = model_svm.predict(X_train_features)\n",
    "accuracy_svm_train = accuracy_score(Y_train, prediction_train)\n",
    "print('Accuracy on training data: ', accuracy_svm_train)\n",
    "\n",
    "# Evaluate the model on the testing data\n",
    "prediction_test = model_svm.predict(X_test_features)\n",
    "accuracy_svm_test = accuracy_score(Y_test, prediction_test)\n",
    "print('\\nAccuracy on testing data: ', accuracy_svm_test)\n"
   ]
  },
  {
   "cell_type": "code",
   "execution_count": null,
   "id": "dce7bd81-d2f8-456b-af30-f268d1538c11",
   "metadata": {},
   "outputs": [],
   "source": [
    "feature_extraction = TfidfVectorizer(min_df=1, stop_words='english', lowercase=True)\n",
    "\n",
    "X_train_features = feature_extraction.fit_transform(X_train)\n",
    "X_test_features = feature_extraction.transform(X_test)\n",
    "\n",
    "Y_train = Y_train.astype('int')\n",
    "Y_test = Y_test.astype('int')\n",
    "\n",
    "\n",
    "# --- Logistic Regression ---\n",
    "model_lg = LogisticRegression()\n",
    "\n",
    "# training the model\n",
    "start=time()\n",
    "model_lg.fit(X_train_features, Y_train)\n",
    "end=time()\n",
    "train_time_lg=end-start\n",
    "# prediction on trained data\n",
    "prediction_train = model_lg.predict(X_train_features)\n",
    "accuracy_lg_train = accuracy_score(Y_train, prediction_train)\n",
    "print('Accuracy on training data: ', accuracy_lg_train)\n",
    "\n",
    "# prediction on tested data\n",
    "prediction_test = model_lg.predict(X_test_features)\n",
    "accuracy_lg_test = accuracy_score(Y_test, prediction_test)\n",
    "print('\\nAccuracy on testing data: ', accuracy_lg_test)\n"
   ]
  },
  {
   "cell_type": "code",
   "execution_count": null,
   "id": "569ca9c8-4129-408d-a0c4-02f60b3f7d89",
   "metadata": {},
   "outputs": [],
   "source": [
    "vectorizer = CountVectorizer()\n",
    "X_train_features = vectorizer.fit_transform(X_train)\n",
    "X_test_features = vectorizer.transform(X_test)\n",
    "\n",
    "# Initialize and train the Naive Bayes model\n",
    "model_v = MultinomialNB()\n",
    "start=time()\n",
    "model_v.fit(X_train_features, Y_train)\n",
    "end=time()\n",
    "train_time_v=end-start\n",
    "# Evaluate the model on the training data\n",
    "prediction_train = model_v.predict(X_train_features)\n",
    "accuracy_v_train = accuracy_score(Y_train, prediction_train)\n",
    "print('Accuracy on training data: ', accuracy_v_train)\n",
    "\n",
    "# Evaluate the model on the testing data\n",
    "prediction_test = model_v.predict(X_test_features)\n",
    "accuracy_v_test = accuracy_score(Y_test, prediction_test)\n",
    "print('\\nAccuracy on testing data: ', accuracy_v_test)\n"
   ]
  },
  {
   "cell_type": "code",
   "execution_count": null,
   "id": "751522ed-bf85-43db-b5cc-33d41a2814e5",
   "metadata": {},
   "outputs": [],
   "source": [
    "model_rf = RandomForestClassifier()\n",
    "start=time()\n",
    "model_rf.fit(X_train_features, Y_train)\n",
    "end=time()\n",
    "train_time_rf=end-start\n",
    "# Evaluate the model on the training data\n",
    "prediction_train_rf = model_rf.predict(X_train_features)\n",
    "accuracy_rf_train = accuracy_score(Y_train, prediction_train_rf)\n",
    "print('Accuracy on training data: ', accuracy_rf_train)\n",
    "\n",
    "# Evaluate the model on the testing data\n",
    "prediction_test_rf = model_rf.predict(X_test_features)\n",
    "accuracy_rf_test = accuracy_score(Y_test, prediction_test_rf)\n",
    "print('\\nAccuracy on testing data: ', accuracy_rf_test)"
   ]
  },
  {
   "cell_type": "code",
   "execution_count": null,
   "id": "0bb4b5b2-f48d-4ad7-9b6a-deebc1851cd9",
   "metadata": {},
   "outputs": [],
   "source": [
    "models_cross = pd.DataFrame({\n",
    "    'Model': ['LogisticRegression','Multinomial Naive Bayes classifier','SVM','RandomForestClassifier'],\n",
    "    'Score of training': [accuracy_lg_train,accuracy_v_train,accuracy_svm_train,accuracy_rf_train],\n",
    "    'Score of testing': [accuracy_lg_test,accuracy_v_test,accuracy_svm_test, accuracy_rf_test],\n",
    "    'Time': [train_time_lg,train_time_v,train_time_svm,train_time_rf]})\n",
    "    \n",
    "models_cross.sort_values(by='Score of testing', ascending=False)"
   ]
  },
  {
   "cell_type": "code",
   "execution_count": null,
   "id": "dd54cb8d-98dc-44a0-86c6-246dcb17837e",
   "metadata": {},
   "outputs": [],
   "source": []
  }
 ],
 "metadata": {
  "kernelspec": {
   "display_name": "Python 3 (ipykernel)",
   "language": "python",
   "name": "python3"
  },
  "language_info": {
   "codemirror_mode": {
    "name": "ipython",
    "version": 3
   },
   "file_extension": ".py",
   "mimetype": "text/x-python",
   "name": "python",
   "nbconvert_exporter": "python",
   "pygments_lexer": "ipython3",
   "version": "3.9.6"
  },
  "widgets": {
   "application/vnd.jupyter.widget-state+json": {
    "state": {},
    "version_major": 2,
    "version_minor": 0
   }
  }
 },
 "nbformat": 4,
 "nbformat_minor": 5
}
